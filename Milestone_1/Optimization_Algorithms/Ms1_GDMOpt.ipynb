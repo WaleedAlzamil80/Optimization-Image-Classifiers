{
 "cells": [
  {
   "cell_type": "code",
   "execution_count": null,
   "metadata": {},
   "outputs": [],
   "source": [
    "import numpy as np\n",
    "import tensorflow as tf"
   ]
  },
  {
   "cell_type": "code",
   "execution_count": 1,
   "metadata": {},
   "outputs": [],
   "source": [
    "def GDM(loss_func, X_init, learning_rate=0.01, momentum=0.9):\n",
    "    \"\"\"\n",
    "    Gradient Descent with Momentum optimization algorithm for updating the values of a given variable.\n",
    "\n",
    "    Args:\n",
    "      - loss_func: Callable, the loss function that computes the loss given the current variable values.\n",
    "      - X_init: tf.Variable, the initial variable values to be updated.\n",
    "      - learning_rate: float, the learning rate used to control the size of the update steps (default is 0.01).\n",
    "      - momentum: float, the momentum hyperparameter used to control the momentum effect (default is 0.9).\n",
    "\n",
    "    Returns:\n",
    "      None\n",
    "    \"\"\"\n",
    "\n",
    "    # Initialize the momentum vector with zeros of the same shape as the variable\n",
    "    momentum_vector = tf.zeros_like(X_init)\n",
    "\n",
    "    with tf.GradientTape(persistent=True) as t:\n",
    "        # Compute the current loss\n",
    "        current_loss = loss_func(X_init)\n",
    "\n",
    "    # Compute the gradient of the loss with respect to the variables\n",
    "    dx = t.gradient(current_loss, X_init)\n",
    "\n",
    "    # Update the momentum vector\n",
    "    momentum_vector.assign(momentum * momentum_vector + (1 - momentum) * dx)\n",
    "\n",
    "    # Update the variables using the momentum update rule\n",
    "    X_init.assign_sub(learning_rate * momentum_vector)\n"
   ]
  }
 ],
 "metadata": {
  "kernelspec": {
   "display_name": "collage",
   "language": "python",
   "name": "python3"
  },
  "language_info": {
   "codemirror_mode": {
    "name": "ipython",
    "version": 3
   },
   "file_extension": ".py",
   "mimetype": "text/x-python",
   "name": "python",
   "nbconvert_exporter": "python",
   "pygments_lexer": "ipython3",
   "version": "3.10.8"
  },
  "orig_nbformat": 4
 },
 "nbformat": 4,
 "nbformat_minor": 2
}
