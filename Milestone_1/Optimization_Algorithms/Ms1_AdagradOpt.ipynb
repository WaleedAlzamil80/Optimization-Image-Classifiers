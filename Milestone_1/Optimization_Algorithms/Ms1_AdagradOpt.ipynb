{
 "cells": [
  {
   "cell_type": "code",
   "execution_count": null,
   "metadata": {},
   "outputs": [],
   "source": [
    "import numpy as np\n",
    "import tensorflow as tf"
   ]
  },
  {
   "cell_type": "code",
   "execution_count": null,
   "metadata": {},
   "outputs": [],
   "source": [
    "def Adagrad(loss_func, X_init, S_init, learning_rate = 0.01, epsilon = 1e-8):\n",
    "  \"\"\"\n",
    "  Adabtive gradient(Adagrad) optimization algorithm for updating the values of a given variable.\n",
    "\n",
    "  Args:\n",
    "    - loss_func: Callable, the loss function that computes the loss given the current variable values.\n",
    "    - X_init: tf.Variable, the initial variable values to be updated.\n",
    "    - learning_rate: float, the learning rate used to control the size of the update steps (default is 0.01).\n",
    "    - S_init: tf.Variable, the initial values for the second moment estimates (RMSprop).\n",
    "    - epsilon: float, Ensure S in not zero by adding this number to it (default is 1e-8).\n",
    "\n",
    "  Returns:\n",
    "    None\n",
    "  \"\"\"\n",
    "\n",
    "  with tf.GradientTape(persistent=True) as t:\n",
    "    # Compute the current loss\n",
    "    current_loss = loss_func(X_init)\n",
    "\n",
    "  # Compute the gradient of the loss with respect to the variables\n",
    "  dx = t.gradient(current_loss, X_init)\n",
    "\n",
    "  # Compute the estimate (RMSprop)\n",
    "  S = S_init + dx**2      # RMSprop\n",
    "  \n",
    "  # Update the variables using the Adagrad update rule\n",
    "  X_init.assign_sub(learning_rate * dx / (tf.sqrt(S) + epsilon))\n",
    "    \n",
    "  # update the moment estimate (RMSprop)\n",
    "  S_init.assign(S)"
   ]
  }
 ],
 "metadata": {
  "language_info": {
   "name": "python"
  },
  "orig_nbformat": 4
 },
 "nbformat": 4,
 "nbformat_minor": 2
}
