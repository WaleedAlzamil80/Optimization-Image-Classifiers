{
 "cells": [
  {
   "cell_type": "code",
   "execution_count": 1,
   "metadata": {},
   "outputs": [
    {
     "name": "stderr",
     "output_type": "stream",
     "text": [
      "2023-04-23 09:36:30.242535: I tensorflow/core/platform/cpu_feature_guard.cc:193] This TensorFlow binary is optimized with oneAPI Deep Neural Network Library (oneDNN) to use the following CPU instructions in performance-critical operations:  SSE4.1 SSE4.2 AVX AVX2 FMA\n",
      "To enable them in other operations, rebuild TensorFlow with the appropriate compiler flags.\n"
     ]
    }
   ],
   "source": [
    "import numpy as np\n",
    "import tensorflow as tf"
   ]
  },
  {
   "cell_type": "code",
   "execution_count": 2,
   "metadata": {},
   "outputs": [],
   "source": [
    "def ThreeHumpCamel(X):\n",
    "    \"\"\"\n",
    "    Computes the value of the 3-Hump Camel function at a given point x using TensorFlow.\n",
    "    \n",
    "    Parameters:\n",
    "        X (tf.Tensor): A TensorFlow tensor representing the decision variables.\n",
    "    \n",
    "    Returns:\n",
    "        tf.Tensor: The value of the 3-Hump Camel function at X.\n",
    "    \"\"\"\n",
    "    X = tf.cast(X, dtype=tf.float32)  # Cast X to float32\n",
    "    X_square = tf.square(X)\n",
    "    term1 = 2 * X_square[:, 0]\n",
    "    term2 = -1.05 * X_square[:, 0] ** 2 + X_square[:, 0] ** 3 / 6.0\n",
    "    result = term1 + term2 + X[:, 0] * X[:, 1] + X_square[:, 1] \n",
    "\n",
    "    return result"
   ]
  },
  {
   "cell_type": "code",
   "execution_count": 3,
   "metadata": {},
   "outputs": [
    {
     "name": "stdout",
     "output_type": "stream",
     "text": [
      "tf.Tensor([25. 25.], shape=(2,), dtype=float32)\n"
     ]
    },
    {
     "name": "stderr",
     "output_type": "stream",
     "text": [
      "2023-04-23 09:36:31.821079: I tensorflow/core/platform/cpu_feature_guard.cc:193] This TensorFlow binary is optimized with oneAPI Deep Neural Network Library (oneDNN) to use the following CPU instructions in performance-critical operations:  SSE4.1 SSE4.2 AVX AVX2 FMA\n",
      "To enable them in other operations, rebuild TensorFlow with the appropriate compiler flags.\n",
      "2023-04-23 09:36:31.822099: I tensorflow/core/common_runtime/process_util.cc:146] Creating new thread pool with default inter op setting: 2. Tune using inter_op_parallelism_threads for best performance.\n"
     ]
    }
   ],
   "source": [
    "input = tf.constant([[0,-5],[0,-5]])\n",
    "output = ThreeHumpCamel(input)\n",
    "print (output)"
   ]
  },
  {
   "attachments": {},
   "cell_type": "markdown",
   "metadata": {},
   "source": [
    "[3 Hump Camel](https://www.sfu.ca/~ssurjano/camel3.html)"
   ]
  }
 ],
 "metadata": {
  "kernelspec": {
   "display_name": "workingenv",
   "language": "python",
   "name": "python3"
  },
  "language_info": {
   "codemirror_mode": {
    "name": "ipython",
    "version": 3
   },
   "file_extension": ".py",
   "mimetype": "text/x-python",
   "name": "python",
   "nbconvert_exporter": "python",
   "pygments_lexer": "ipython3",
   "version": "3.10.8"
  },
  "orig_nbformat": 4,
  "vscode": {
   "interpreter": {
    "hash": "45b59798d74bb50e109fe8c48531eb1b59f7c8e05b5ed79acfc3efc4f6ab9c77"
   }
  }
 },
 "nbformat": 4,
 "nbformat_minor": 2
}
