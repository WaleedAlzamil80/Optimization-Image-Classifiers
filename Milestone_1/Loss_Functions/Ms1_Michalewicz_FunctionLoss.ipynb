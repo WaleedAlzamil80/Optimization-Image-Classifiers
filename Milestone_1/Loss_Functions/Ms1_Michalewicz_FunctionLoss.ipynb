{
 "cells": [
  {
   "cell_type": "code",
   "execution_count": null,
   "metadata": {},
   "outputs": [],
   "source": [
    "import numpy as np\n",
    "import tensorflow as tf"
   ]
  },
  {
   "cell_type": "code",
   "execution_count": null,
   "metadata": {},
   "outputs": [],
   "source": [
    "def Michalewicz(X, m = 10):\n",
    "    \"\"\"\n",
    "    Computes the value of the Michalewicz function at a given point x using TensorFlow.\n",
    "    \n",
    "    Parameters:\n",
    "        X (tf.Tensor): A TensorFlow tensor representing the decision variables.\n",
    "        m (int): A constant value used in the Michalewicz function. Default is 10.\n",
    "    \n",
    "    Returns:\n",
    "        tf.Tensor: The value of the Michalewicz function at X.\n",
    "    \"\"\"\n",
    "\n",
    "    i = np.array(range(X.shape[0]), dtype = np.float32).reshape(2,1) + 1\n",
    "    i = tf.Variable(i)\n",
    "    \n",
    "    M = tf.sin(tf.math.multiply(tf.math.multiply(X, X), i) / np.pi)**(2 * m)\n",
    "    S = tf.math.multiply(tf.sin(X), M)\n",
    "\n",
    "    return (-1 * tf.reduce_sum(S))"
   ]
  }
 ],
 "metadata": {
  "language_info": {
   "name": "python"
  },
  "orig_nbformat": 4
 },
 "nbformat": 4,
 "nbformat_minor": 2
}
