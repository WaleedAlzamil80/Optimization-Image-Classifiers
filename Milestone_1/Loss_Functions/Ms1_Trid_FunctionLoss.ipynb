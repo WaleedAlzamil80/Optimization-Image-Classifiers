{
 "cells": [
  {
   "cell_type": "code",
   "execution_count": null,
   "metadata": {},
   "outputs": [],
   "source": [
    "import numpy as np\n",
    "import tensorflow as tf"
   ]
  },
  {
   "cell_type": "code",
   "execution_count": null,
   "metadata": {},
   "outputs": [],
   "source": [
    "def Trid(X):\n",
    "    \"\"\"\n",
    "    Computes the value of the Trid function at a given point x using TensorFlow.\n",
    "    \n",
    "    Parameters:\n",
    "        X (tf.Tensor): A TensorFlow tensor representing the decision variables.\n",
    "\n",
    "    Returns:\n",
    "        tf.Tensor: The value of the Michalewicz function at X.\n",
    "    \"\"\"\n",
    "    sum0 = 0\n",
    "    for i in range(X.shape[0]):\n",
    "        if i == (X.shape[0] - 1):\n",
    "            break\n",
    "        sum0 += X[i+1]*X[i]\n",
    "    return (tf.reduce_sum((X - 1)**2) - sum0)"
   ]
  },
  {
   "cell_type": "code",
   "execution_count": null,
   "metadata": {},
   "outputs": [],
   "source": [
    "def TridOptmValue(X):\n",
    "    \"\"\"\n",
    "    Computes the value of the Trid function using the diven formula to test the optimizers.\n",
    "    \n",
    "    Parameters:\n",
    "        X (tf.Tensor): A TensorFlow tensor representing the decision variables.\n",
    "\n",
    "    Returns:\n",
    "        float: The value of the optimum X that the optimzer must reach.\n",
    "    \"\"\"\n",
    "    d= X.shape[0]\n",
    "    return (-d * (d + 4) * (d - 1) / 6)"
   ]
  }
 ],
 "metadata": {
  "language_info": {
   "name": "python"
  },
  "orig_nbformat": 4
 },
 "nbformat": 4,
 "nbformat_minor": 2
}
