{
 "cells": [
  {
   "cell_type": "code",
   "execution_count": 1,
   "metadata": {},
   "outputs": [],
   "source": [
    "import numpy as np\n",
    "import tensorflow as tf"
   ]
  },
  {
   "cell_type": "code",
   "execution_count": 2,
   "metadata": {},
   "outputs": [],
   "source": [
    "def ThreeHumpCamel(X):\n",
    "    \"\"\"\n",
    "    Computes the value of the 3-Hump Camel function at a given point x using TensorFlow.\n",
    "    \n",
    "    Parameters:\n",
    "        X (tf.Tensor): A TensorFlow tensor representing the decision variables.\n",
    "    \n",
    "    Returns:\n",
    "        tf.Tensor: The value of the 3-Hump Camel function at X.\n",
    "    \"\"\"\n",
    "    X = tf.cast(X, dtype=tf.float32)  # Cast X to float32\n",
    "    X_square = tf.square(X)\n",
    "    term1 = 2 * X_square[0]\n",
    "    term2 = -1.05 * X_square[0] ** 2 + X_square[0] ** 3 / 6.0\n",
    "    result = term1 + term2 + X[0] * X[1] + X_square[1] \n",
    "\n",
    "    return result"
   ]
  },
  {
   "cell_type": "code",
   "execution_count": 3,
   "metadata": {},
   "outputs": [
    {
     "name": "stdout",
     "output_type": "stream",
     "text": [
      "Test 1: X = [-1.6209273  1.0576903], ThreeHumpCamel(X) = 0.43360185623168945\n",
      "Test 2: X = [0.34170225 0.40863425], ThreeHumpCamel(X) = 0.5260847210884094\n",
      "Test 3: X = [-1.4259031 -0.7048958], ThreeHumpCamel(X) = 2.628635883331299\n",
      "Test 4: X = [1.117526  1.0663301], ThreeHumpCamel(X) = 3.5134291648864746\n",
      "Test 5: X = [ 0.27864537 -1.0949203 ], ThreeHumpCamel(X) = 1.0427905321121216\n",
      "Test 6: X = [-2.2412186  1.0844612], ThreeHumpCamel(X) = 3.421891212463379\n",
      "Test 7: X = [1.1976633 0.8075508], ThreeHumpCamel(X) = 2.8196139335632324\n",
      "Test 8: X = [-0.35076615  0.09671824], ThreeHumpCamel(X) = 0.20591814815998077\n",
      "Test 9: X = [-0.36217272  0.8761139 ], ThreeHumpCamel(X) = 0.6949197053909302\n",
      "Test 10: X = [-1.0241554   0.26700506], ThreeHumpCamel(X) = 0.9327661991119385\n"
     ]
    }
   ],
   "source": [
    "# Generate random values for testing\n",
    "num_tests = 10\n",
    "X_values = tf.random.normal((2, num_tests))  # Generate column tensors\n",
    "\n",
    "# Test the ThreeHumpCamel function with the generated values\n",
    "for i in range(num_tests):\n",
    "    X = X_values[:, i]  # Get column tensor for each test\n",
    "    result = ThreeHumpCamel(X)\n",
    "    print(f'Test {i + 1}: X = {X.numpy()}, ThreeHumpCamel(X) = {result.numpy()}')"
   ]
  },
  {
   "cell_type": "code",
   "execution_count": 4,
   "metadata": {},
   "outputs": [
    {
     "name": "stdout",
     "output_type": "stream",
     "text": [
      "Global Minimum Case: X = [[0]\n",
      " [0]], ThreeHumpCamel(X) = [0.]\n"
     ]
    }
   ],
   "source": [
    "X = tf.constant([[0],[0]])\n",
    "result = ThreeHumpCamel(X)\n",
    "print(f'Global Minimum Case: X = {X.numpy()}, ThreeHumpCamel(X) = {result.numpy()}')"
   ]
  },
  {
   "attachments": {},
   "cell_type": "markdown",
   "metadata": {},
   "source": [
    "[3 Hump Camel](https://www.sfu.ca/~ssurjano/camel3.html)"
   ]
  }
 ],
 "metadata": {
  "kernelspec": {
   "display_name": "workingenv",
   "language": "python",
   "name": "python3"
  },
  "language_info": {
   "codemirror_mode": {
    "name": "ipython",
    "version": 3
   },
   "file_extension": ".py",
   "mimetype": "text/x-python",
   "name": "python",
   "nbconvert_exporter": "python",
   "pygments_lexer": "ipython3",
   "version": "3.10.8"
  },
  "orig_nbformat": 4,
  "vscode": {
   "interpreter": {
    "hash": "45b59798d74bb50e109fe8c48531eb1b59f7c8e05b5ed79acfc3efc4f6ab9c77"
   }
  }
 },
 "nbformat": 4,
 "nbformat_minor": 2
}
