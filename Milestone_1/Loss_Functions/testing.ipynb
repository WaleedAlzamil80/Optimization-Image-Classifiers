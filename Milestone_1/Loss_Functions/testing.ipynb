{
 "cells": [
  {
   "cell_type": "code",
   "execution_count": 3,
   "metadata": {},
   "outputs": [],
   "source": [
    "import numpy as np\n",
    "import tensorflow as tf\n",
    "from Ms1_EggHolder_FunctionLoss import EggHolder\n",
    "import matplotlib.pyplot as plt\n",
    "from mpl_toolkits.mplot3d import Axes3D\n"
   ]
  },
  {
   "cell_type": "code",
   "execution_count": 4,
   "metadata": {},
   "outputs": [],
   "source": [
    "\n",
    "def Adam(loss_func, X_init, V_init, S_init, loss_val, eta = 0.01, beta_1 = 0.9, beta_2 = 0.99, eps = 1e-8, bias_correction = False, t = 1):\n",
    "    \"\"\"\n",
    "    Adam optimization algorithm for updating the values of a given variable.\n",
    "\n",
    "    Args:\n",
    "        - loss_func: Callable, the loss function that computes the loss given the current variable values.\n",
    "        - X_init: tf.Variable, the initial variable values to be updated.\n",
    "        - V_init: tf.Variable, the initial values for the first moment estimates (momentum).\n",
    "        - S_init: tf.Variable, the initial values for the second moment estimates (RMSprop).\n",
    "        - eta: float, the learning rate used to control the size of the update steps (default is 0.01).\n",
    "        - beta_1: float, the amount used to control how the momentum (exponentially weighted moving averages)\n",
    "                  depending on the last values (default is 0.9)\n",
    "        - beta_2: float, the amount used to control how the learning rate depend on the last values (default is 0.99)\n",
    "        - eps: float, Ensure S in not zero by adding this number to it (default is 1e-8)\n",
    "        - bias_correction: boolean, to limit the first iteration from being biased (default is True)\n",
    "        - t: int, iteration number for bias correction\n",
    "        - loss_val: list(), empty list used to save the loss values at each iteration.\n",
    "\n",
    "    Returns:\n",
    "        None\n",
    "    \"\"\"\n",
    "\n",
    "    with tf.GradientTape(persistent=True) as tape:\n",
    "        # Compute the current loss\n",
    "        current_loss = loss_func(X_init)\n",
    "\n",
    "    # Compute the gradient of the loss with respect to the variables\n",
    "    dx = tape.gradient(current_loss, X_init)\n",
    "\n",
    "    # Compute the first and second moment estimates (momentum and RMSprop)\n",
    "    V = (beta_1 * V_init) + (1 - beta_1) * dx      # momentum\n",
    "    S = (beta_2 * S_init) + (1 - beta_2) * (dx**2) # RMSprop\n",
    "\n",
    "    # bias correction\n",
    "    if (bias_correction):\n",
    "        V_corrected = V / (1 - (beta_1**(t)))\n",
    "        S_corrected = S / (1 - (beta_2**(t)))\n",
    "    else:\n",
    "        V_corrected = V\n",
    "        S_corrected = S\n",
    "\n",
    "    # update the variables using Adam update rule\n",
    "    X_init.assign_sub(eta * V_corrected / (tf.sqrt(S_corrected) + eps))\n",
    "\n",
    "    # update the first and second moment estimates (momentum and RMSprop)\n",
    "    V_init.assign(V)\n",
    "    S_init.assign(S)\n",
    "\n",
    "    # calc the loss value and append it to the list\n",
    "    loss_val.append(loss_func(X_init))\n"
   ]
  },
  {
   "cell_type": "code",
   "execution_count": 5,
   "metadata": {},
   "outputs": [],
   "source": [
    "def old(X):\n",
    "    \"\"\"\n",
    "    Computes the value of the EggHolder function at a given point x using TensorFlow.\n",
    "    \n",
    "    Parameters:\n",
    "        X (tf.Tensor): A TensorFlow tensor representing the decision variable.\n",
    "    \n",
    "    Returns:\n",
    "        tf.Tensor: The value of the EggHolder function at X.\n",
    "    \"\"\"\n",
    "    X1, X2 = X[:, 0], X[:, 1]\n",
    "\n",
    "    \n",
    "\n",
    "\n",
    "    oneOut = tf.math.add(X2, 47.0)\n",
    "    oneIn = tf.math.add(tf.math.add(X2, tf.math.multiply(X1,0.5)), 47.0)\n",
    "\n",
    "\n",
    "    twoOut = X1\n",
    "    twoIn = tf.math.subtract(tf.math.add(X2, 47.0 ), X1)\n",
    "\n",
    "\n",
    "\n",
    "    One =  tf.math.multiply ( oneOut , tf.math.sin(tf.math.sqrt(tf.math.abs(oneIn)))  )\n",
    "    Two =  tf.math.multiply ( twoOut , tf.math.sin(tf.math.sqrt(tf.math.abs(twoIn)))  )\n",
    "\n",
    "\n",
    "\n",
    "\n",
    "    return tf.negative(tf.math.add  (One, Two))"
   ]
  },
  {
   "cell_type": "code",
   "execution_count": 6,
   "metadata": {},
   "outputs": [
    {
     "name": "stdout",
     "output_type": "stream",
     "text": [
      "tf.Tensor([-959.5797 -959.5797 -959.5797 -959.5797], shape=(4,), dtype=float32)\n"
     ]
    }
   ],
   "source": [
    "input = tf.constant([[512,512,512,512],[404,404,404,404]])\n",
    "print (EggHolder(input))"
   ]
  },
  {
   "cell_type": "code",
   "execution_count": 7,
   "metadata": {},
   "outputs": [
    {
     "ename": "",
     "evalue": "",
     "output_type": "error",
     "traceback": [
      "\u001b[1;31mCanceled future for execute_request message before replies were done"
     ]
    },
    {
     "ename": "",
     "evalue": "",
     "output_type": "error",
     "traceback": [
      "The Kernel crashed while executing code in the the current cell or a previous cell. Please review the code in the cell(s) to identify a possible cause of the failure. Click <a href='https://aka.ms/vscodeJupyterKernelCrash'>here</a> for more info. View Jupyter <a href='command:jupyter.viewOutput'>log</a> for further details."
     ]
    }
   ],
   "source": [
    "x_range = np.linspace(-512, 512, 100)\n",
    "y_range = np.linspace(-512, 512, 100)\n",
    "\n",
    "# Create a meshgrid from the x and y variables\n",
    "X, Y = np.meshgrid(x_range, y_range)\n",
    "\n",
    "# Create a TensorFlow tensor from the meshgrid\n",
    "points = tf.constant(np.stack([X.ravel(), Y.ravel()], axis=1), dtype=tf.float32)\n",
    "\n",
    "# Evaluate the EggHolder function using TensorFlow\n",
    "Z = old(points).numpy()\n",
    "\n",
    "# Reshape the results to match the shape of the meshgrid\n",
    "Z = Z.reshape(X.shape)\n",
    "\n",
    "# Create a 3D plot of the EggHolder function\n",
    "fig = plt.figure()\n",
    "ax = fig.add_subplot(111, projection='3d')\n",
    "ax.plot_surface(X, Y, Z, cmap='plasma')\n",
    "ax.set_xlabel('X')\n",
    "ax.set_ylabel('Y')\n",
    "ax.set_zlabel('Z')\n",
    "ax.set_title('EggHolder Function')\n",
    "\n",
    "# Display the plot\n",
    "plt.show()"
   ]
  },
  {
   "cell_type": "code",
   "execution_count": null,
   "metadata": {},
   "outputs": [],
   "source": [
    "\"\"\"X_init = tf.Variable([[5.0], [55.0]])\n",
    "V_init = tf.Variable([[0.0], [0.0]])\n",
    "S_init = tf.Variable([[0.0], [0.0]])\n",
    "loss_val = []\n",
    "\n",
    "\n",
    "for i in range(1000):\n",
    "    Adam(EggHolder, X_init, V_init, S_init, loss_val)\n",
    "    print(f\"Iteration {i+1}: X = {X_init.numpy()}, loss = {loss_val[-1]}\")\n",
    "\n"
   ]
  }
 ],
 "metadata": {
  "kernelspec": {
   "display_name": "Python 3.9.13 ('myenv')",
   "language": "python",
   "name": "python3"
  },
  "language_info": {
   "codemirror_mode": {
    "name": "ipython",
    "version": 3
   },
   "file_extension": ".py",
   "mimetype": "text/x-python",
   "name": "python",
   "nbconvert_exporter": "python",
   "pygments_lexer": "ipython3",
   "version": "3.9.13"
  },
  "orig_nbformat": 4,
  "vscode": {
   "interpreter": {
    "hash": "de1e89af3ef8b17e93d79e53c27fdd6267335e03ee420ef3296d6319bf4dd9be"
   }
  }
 },
 "nbformat": 4,
 "nbformat_minor": 2
}
