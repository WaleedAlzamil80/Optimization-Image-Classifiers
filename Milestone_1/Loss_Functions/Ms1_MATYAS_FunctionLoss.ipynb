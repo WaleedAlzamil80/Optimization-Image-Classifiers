{
 "cells": [
  {
   "cell_type": "code",
   "execution_count": 1,
   "metadata": {},
   "outputs": [],
   "source": [
    "import numpy as np\n",
    "import tensorflow as tf"
   ]
  },
  {
   "cell_type": "code",
   "execution_count": 2,
   "metadata": {},
   "outputs": [],
   "source": [
    "def MATYAS(X):\n",
    "    \"\"\"\n",
    "    Computes the value of the MATYAS function at a given point x using TensorFlow.\n",
    "    \n",
    "    Parameters:\n",
    "        X (tf.Tensor): A TensorFlow tensor representing the decision variable.\n",
    "    \n",
    "    Returns:\n",
    "        tf.Tensor: The value of the MATYAS function at X.\n",
    "    \"\"\"\n",
    "\n",
    "    X = tf.cast(X, dtype=tf.float32)  # Cast X to float32\n",
    "    X1, X2 = X[0], X[1]\n",
    "    x1sq = tf.math.multiply(X1, X1)\n",
    "    x2sq = tf.math.multiply(X2, X2)\n",
    "    sum1 = tf.math.multiply(tf.math.add(x1sq, x2sq), 0.26)\n",
    "\n",
    "    sum2 = tf.math.multiply(tf.math.multiply(x2sq, x2sq), -0.48)\n",
    "\n",
    "    result = tf.math.add(sum1, sum2)\n",
    "\n",
    "    return tf.reduce_sum(result)"
   ]
  },
  {
   "cell_type": "code",
   "execution_count": 3,
   "metadata": {},
   "outputs": [
    {
     "name": "stdout",
     "output_type": "stream",
     "text": [
      "Test 1: X = [-1.1404098  1.286756 ], MATYAS(X) = -0.547278106212616\n",
      "Test 2: X = [ 1.1698507  -0.12631403], MATYAS(X) = 0.35984933376312256\n",
      "Test 3: X = [-0.23128363  2.2394764 ], MATYAS(X) = -10.755459785461426\n",
      "Test 4: X = [ 0.33934277 -0.85680246], MATYAS(X) = -0.037872105836868286\n",
      "Test 5: X = [0.5004264 2.387443 ], MATYAS(X) = -14.047486305236816\n",
      "Test 6: X = [ 0.51199436 -0.91271627], MATYAS(X) = -0.04835829138755798\n",
      "Test 7: X = [2.4242845  0.21082515], MATYAS(X) = 1.5386683940887451\n",
      "Test 8: X = [-0.22641239  0.22502251], MATYAS(X) = 0.025262722745537758\n",
      "Test 9: X = [0.44833264 0.4703757 ], MATYAS(X) = 0.08628896623849869\n",
      "Test 10: X = [-1.8631477 -0.8643566], MATYAS(X) = 0.8288672566413879\n"
     ]
    }
   ],
   "source": [
    "# Generate random values for testing\n",
    "num_tests = 10\n",
    "X_values = tf.random.normal((2, num_tests))  # Generate column tensors\n",
    "\n",
    "# Test the MATYAS function with the generated values\n",
    "for i in range(num_tests):\n",
    "    X = X_values[:, i]  # Get column tensor for each test\n",
    "    result = MATYAS(X)\n",
    "    print(f'Test {i + 1}: X = {X.numpy()}, MATYAS(X) = {result.numpy()}')\n"
   ]
  },
  {
   "cell_type": "code",
   "execution_count": 4,
   "metadata": {},
   "outputs": [
    {
     "name": "stdout",
     "output_type": "stream",
     "text": [
      "Global Minimum Case: X = [[0]\n",
      " [0]], MATYAS(X) = 0.0\n"
     ]
    }
   ],
   "source": [
    "X = tf.constant([[0],[0]])\n",
    "result = MATYAS(X)\n",
    "print(f'Global Minimum Case: X = {X.numpy()}, MATYAS(X) = {result.numpy()}')"
   ]
  },
  {
   "attachments": {},
   "cell_type": "markdown",
   "metadata": {},
   "source": [
    "[Maytas](https://www.sfu.ca/~ssurjano/matya.html)"
   ]
  }
 ],
 "metadata": {
  "kernelspec": {
   "display_name": "workingenv",
   "language": "python",
   "name": "python3"
  },
  "language_info": {
   "codemirror_mode": {
    "name": "ipython",
    "version": 3
   },
   "file_extension": ".py",
   "mimetype": "text/x-python",
   "name": "python",
   "nbconvert_exporter": "python",
   "pygments_lexer": "ipython3",
   "version": "3.10.8"
  },
  "orig_nbformat": 4,
  "vscode": {
   "interpreter": {
    "hash": "45b59798d74bb50e109fe8c48531eb1b59f7c8e05b5ed79acfc3efc4f6ab9c77"
   }
  }
 },
 "nbformat": 4,
 "nbformat_minor": 2
}
