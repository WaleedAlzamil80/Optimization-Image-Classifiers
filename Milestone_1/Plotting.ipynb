{
 "cells": [
  {
   "cell_type": "code",
   "execution_count": 1,
   "metadata": {},
   "outputs": [],
   "source": [
    "import numpy as np\n",
    "import tensorflow as tf\n",
    "import matplotlib.pyplot as plt\n",
    "from mpl_toolkits.mplot3d import Axes3D\n",
    "from matplotlib import cm"
   ]
  },
  {
   "cell_type": "code",
   "execution_count": 2,
   "metadata": {},
   "outputs": [],
   "source": [
    "from Loss_Functions.Ms1_3HumpCamel_FunctionLoss import *\n",
    "from Loss_Functions.Ms1_EggHolder_FunctionLoss import *\n",
    "from Loss_Functions.Ms1_MATYAS_FunctionLoss import *\n",
    "from Loss_Functions.Ms1_Michalewicz_FunctionLoss import *\n",
    "from Loss_Functions.Ms1_StyblinskiTang_FunctionLoss import *\n",
    "\n",
    "from Optimization_Algorithms.Ms1_SGDOpt import *\n",
    "from Optimization_Algorithms.Ms1_GDMOpt import *\n",
    "from Optimization_Algorithms.Ms1_AdagradOpt import *\n",
    "from Optimization_Algorithms.Ms1_AdadeltaOpt import *\n",
    "from Optimization_Algorithms.Ms1_AdamOpt import *\n",
    "\n",
    "from PlottingUtil import *"
   ]
  },
  {
   "cell_type": "code",
   "execution_count": 3,
   "metadata": {},
   "outputs": [
    {
     "ename": "",
     "evalue": "",
     "output_type": "error",
     "traceback": [
      "\u001b[1;31mCanceled future for execute_request message before replies were done"
     ]
    },
    {
     "ename": "",
     "evalue": "",
     "output_type": "error",
     "traceback": [
      "The Kernel crashed while executing code in the the current cell or a previous cell. Please review the code in the cell(s) to identify a possible cause of the failure. Click <a href='https://aka.ms/vscodeJupyterKernelCrash'>here</a> for more info. View Jupyter <a href='command:jupyter.viewOutput'>log</a> for further details."
     ]
    }
   ],
   "source": [
    "num_iterations = 1000\n",
    "X_init = tf.Variable([-10.0, 10.0])\n",
    "V_init = tf.Variable([0.0, 0.0])\n",
    "S_init = tf.Variable([0.0, 0.0])\n",
    "\n",
    "loss_function = MATYAS\n",
    "\n",
    "# Initialize arrays to store the loss value and X at each iteration\n",
    "loss_vals = [ tf.squeeze (loss_function(X_init)) ]\n",
    "X_vals = [X_init.numpy()]\n",
    "\n",
    "\n",
    "# Run the Adam optimizer\n",
    "for i in range(num_iterations):\n",
    "    Adam(loss_function, X_init, V_init, S_init,X_vals ,loss_vals)\n",
    "\n",
    "\n",
    "plot(loss_function, X_vals, loss_vals )"
   ]
  },
  {
   "cell_type": "code",
   "execution_count": null,
   "metadata": {},
   "outputs": [],
   "source": [
    "num_iterations = 1000\n",
    "X_init = tf.Variable([-5.0, 5.0])\n",
    "V_init = tf.Variable([0.0, 0.0])\n",
    "S_init = tf.Variable([0.0, 0.0])\n",
    "\n",
    "loss_function = StyblinskiTang\n",
    "\n",
    "# Initialize arrays to store the loss value and X at each iteration\n",
    "loss_vals = [ tf.squeeze (loss_function(X_init)) ]\n",
    "X_vals = [X_init.numpy()]\n",
    "\n",
    "\n",
    "# Run the Adam optimizer\n",
    "for i in range(num_iterations):\n",
    "    Adam(loss_function, X_init, V_init, S_init,X_vals ,loss_vals)\n",
    "\n",
    "\n",
    "plot(loss_function, X_vals, loss_vals )"
   ]
  },
  {
   "cell_type": "code",
   "execution_count": null,
   "metadata": {},
   "outputs": [],
   "source": [
    "num_iterations = 10000\n",
    "X_init = tf.Variable([-35.0, -20.0])\n",
    "V_init = tf.Variable([0.0, 0.0])\n",
    "S_init = tf.Variable([0.0, 0.0])\n",
    "\n",
    "loss_function = EggHolder\n",
    "\n",
    "# Initialize arrays to store the loss value and X at each iteration\n",
    "loss_vals = [ tf.squeeze (loss_function(X_init)) ]\n",
    "X_vals = [X_init.numpy()]\n",
    "\n",
    "\n",
    "# Run the Adam optimizer\n",
    "for i in range(num_iterations):\n",
    "    Adam(loss_function, X_init, V_init, S_init,X_vals ,loss_vals)\n",
    "\n",
    "\n",
    "plot(loss_function, X_vals, loss_vals )"
   ]
  },
  {
   "cell_type": "code",
   "execution_count": null,
   "metadata": {},
   "outputs": [],
   "source": [
    "num_iterations = 1000\n",
    "X_init = tf.Variable([-2.0, -2.0])\n",
    "V_init = tf.Variable([0.0, 0.0])\n",
    "S_init = tf.Variable([0.0, 0.0])\n",
    "\n",
    "loss_function = ThreeHumpCamel\n",
    "\n",
    "# Initialize arrays to store the loss value and X at each iteration\n",
    "loss_vals = [ tf.squeeze (loss_function(X_init)) ]\n",
    "X_vals = [X_init.numpy()]\n",
    "\n",
    "\n",
    "# Run the Adam optimizer\n",
    "for i in range(num_iterations):\n",
    "    Adam(loss_function, X_init, V_init, S_init,X_vals ,loss_vals)\n",
    "\n",
    "\n",
    "plot(loss_function, X_vals, loss_vals )"
   ]
  }
 ],
 "metadata": {
  "kernelspec": {
   "display_name": "Python 3.9.13 ('myenv')",
   "language": "python",
   "name": "python3"
  },
  "language_info": {
   "codemirror_mode": {
    "name": "ipython",
    "version": 3
   },
   "file_extension": ".py",
   "mimetype": "text/x-python",
   "name": "python",
   "nbconvert_exporter": "python",
   "pygments_lexer": "ipython3",
   "version": "3.9.13"
  },
  "orig_nbformat": 4,
  "vscode": {
   "interpreter": {
    "hash": "de1e89af3ef8b17e93d79e53c27fdd6267335e03ee420ef3296d6319bf4dd9be"
   }
  }
 },
 "nbformat": 4,
 "nbformat_minor": 2
}
