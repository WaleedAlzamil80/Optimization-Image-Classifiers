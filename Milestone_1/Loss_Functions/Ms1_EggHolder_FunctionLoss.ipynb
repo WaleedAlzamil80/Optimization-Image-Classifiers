{
 "cells": [
  {
   "cell_type": "code",
   "execution_count": 4,
   "metadata": {},
   "outputs": [],
   "source": [
    "import numpy as np\n",
    "import tensorflow as tf"
   ]
  },
  {
   "cell_type": "code",
   "execution_count": 5,
   "metadata": {},
   "outputs": [],
   "source": [
    "def MATYAS(X):\n",
    "    \"\"\"\n",
    "    Computes the value of the MATYAS function at a given point x using TensorFlow.\n",
    "    \n",
    "    Parameters:\n",
    "        X (tf.Tensor): A TensorFlow tensor representing the decision variable.\n",
    "    \n",
    "    Returns:\n",
    "        tf.Tensor: The value of the MATYAS function at X.\n",
    "    \"\"\"\n",
    "    X1, X2 = X[:, 0], X[:, 1]\n",
    "\n",
    "    \n",
    "\n",
    "\n",
    "    oneOut = tf.math.add(X2, 47.0)\n",
    "    oneIn = tf.math.add(tf.math.add(X2, tf.math.multiply(X1,0.5)), 47.0)\n",
    "\n",
    "\n",
    "    twoOut = X1\n",
    "    twoIn = tf.math.subtract(tf.math.add(X2, 47.0 ), X1)\n",
    "\n",
    "\n",
    "\n",
    "    One =  tf.math.multiply ( oneOut , tf.math.sin(tf.math.sqrt(tf.math.abs(oneIn)))  )\n",
    "    Two =  tf.math.multiply ( twoOut , tf.math.sin(tf.math.sqrt(tf.math.abs(twoIn)))  )\n",
    "\n",
    "\n",
    "\n",
    "\n",
    "    return tf.negative(tf.math.add  (One, Two))"
   ]
  },
  {
   "cell_type": "code",
   "execution_count": 6,
   "metadata": {},
   "outputs": [
    {
     "name": "stdout",
     "output_type": "stream",
     "text": [
      "tf.Tensor([-959.5797    -25.460342], shape=(2,), dtype=float32)\n"
     ]
    }
   ],
   "source": [
    "input = tf.constant([[512.0,404.0],[0,0]])\n",
    "output = MATYAS(input)\n",
    "print (output)"
   ]
  },
  {
   "attachments": {},
   "cell_type": "markdown",
   "metadata": {},
   "source": [
    "[Maytas](https://www.sfu.ca/~ssurjano/matya.html)"
   ]
  }
 ],
 "metadata": {
  "kernelspec": {
   "display_name": "workingenv",
   "language": "python",
   "name": "python3"
  },
  "language_info": {
   "codemirror_mode": {
    "name": "ipython",
    "version": 3
   },
   "file_extension": ".py",
   "mimetype": "text/x-python",
   "name": "python",
   "nbconvert_exporter": "python",
   "pygments_lexer": "ipython3",
   "version": "3.10.8"
  },
  "orig_nbformat": 4,
  "vscode": {
   "interpreter": {
    "hash": "45b59798d74bb50e109fe8c48531eb1b59f7c8e05b5ed79acfc3efc4f6ab9c77"
   }
  }
 },
 "nbformat": 4,
 "nbformat_minor": 2
}
