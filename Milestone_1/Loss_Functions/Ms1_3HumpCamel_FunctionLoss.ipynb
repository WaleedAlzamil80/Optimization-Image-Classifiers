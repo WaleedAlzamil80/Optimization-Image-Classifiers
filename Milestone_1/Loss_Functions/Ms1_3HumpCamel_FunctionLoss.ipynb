{
 "cells": [
  {
   "cell_type": "code",
   "execution_count": 1,
   "metadata": {},
   "outputs": [],
   "source": [
    "import numpy as np\n",
    "import tensorflow as tf"
   ]
  },
  {
   "cell_type": "code",
   "execution_count": 8,
   "metadata": {},
   "outputs": [],
   "source": [
    "def ThreeHumpCamel(X):\n",
    "    \"\"\"\n",
    "    Computes the value of the 3-Hump Camel function at a given point x using TensorFlow.\n",
    "    \n",
    "    Parameters:\n",
    "        X (tf.Tensor): A TensorFlow tensor representing the decision variables.\n",
    "    \n",
    "    Returns:\n",
    "        tf.Tensor: The value of the 3-Hump Camel function at X.\n",
    "    \"\"\"\n",
    "    X = tf.cast(X, dtype=tf.float32)  # Cast X to float32\n",
    "    X_square = tf.square(X)\n",
    "    term1 = 2 * X_square[:, 0]\n",
    "    term2 = -1.05 * X_square[:, 0] ** 2 + X_square[:, 0] ** 3 / 6.0\n",
    "    result = term1 + term2 + X_square[:, 0] * X_square[:, 1] + X_square[:, 1] ** 2\n",
    "\n",
    "    return result"
   ]
  },
  {
   "cell_type": "code",
   "execution_count": 18,
   "metadata": {},
   "outputs": [
    {
     "name": "stdout",
     "output_type": "stream",
     "text": [
      "tf.Tensor([0.], shape=(1,), dtype=float32)\n"
     ]
    }
   ],
   "source": [
    "input = tf.constant([[0,0]])\n",
    "output = ThreeHumpCamel(input)\n",
    "print (output)"
   ]
  },
  {
   "attachments": {},
   "cell_type": "markdown",
   "metadata": {},
   "source": [
    "[3 Hump Camel](https://www.sfu.ca/~ssurjano/camel3.html)"
   ]
  }
 ],
 "metadata": {
  "kernelspec": {
   "display_name": "collage",
   "language": "python",
   "name": "python3"
  },
  "language_info": {
   "codemirror_mode": {
    "name": "ipython",
    "version": 3
   },
   "file_extension": ".py",
   "mimetype": "text/x-python",
   "name": "python",
   "nbconvert_exporter": "python",
   "pygments_lexer": "ipython3",
   "version": "3.10.8"
  },
  "orig_nbformat": 4
 },
 "nbformat": 4,
 "nbformat_minor": 2
}
