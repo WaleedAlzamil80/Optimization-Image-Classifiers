{
 "cells": [
  {
   "cell_type": "code",
   "execution_count": 1,
   "metadata": {},
   "outputs": [],
   "source": [
    "import numpy as np\n",
    "import tensorflow as tf"
   ]
  },
  {
   "cell_type": "code",
   "execution_count": null,
   "metadata": {},
   "outputs": [],
   "source": [
    "def Adadelta(loss_func, X_init, S_init, Beta = 0.9, learning_rate = 0.01, epsilon = 1e-8):\n",
    "  \"\"\"\n",
    "  Adabtive gradient(Adagrad) optimization algorithm for updating the values of a given variable.\n",
    "\n",
    "  Args:\n",
    "    - loss_func: Callable, the loss function that computes the loss given the current variable values.\n",
    "    - X_init: tf.Variable, the initial variable values to be updated.\n",
    "    - learning_rate: float, the learning rate used to control the size of the update steps (default is 0.01).\n",
    "    - Beta: float, the momentum hyperparameter used to control the momentum effect (default is 0.9).\n",
    "    - S_init: tf.Variable, the initial values for the second moment estimates (RMSprop).\n",
    "    - epsilon: float, Ensure S in not zero by adding this number to it (default is 1e-8).\n",
    "\n",
    "  Returns:\n",
    "    None\n",
    "  \"\"\"\n",
    "\n",
    "  with tf.GradientTape(persistent=True) as t:\n",
    "    # Compute the current loss\n",
    "    current_loss = loss_func(X_init)\n",
    "\n",
    "  # Compute the gradient of the loss with respect to the variables\n",
    "  dx = t.gradient(current_loss, X_init)\n",
    "\n",
    "  # Compute the estimate (RMSprop)\n",
    "  S = Beta * S_init + (1-Beta )* dx**2      # RMSprop\n",
    "  \n",
    "  # Update the variables using the Adadelta update rule\n",
    "  X_init.assign_sub(learning_rate * dx / (tf.sqrt(S) + epsilon))\n",
    "    \n",
    "  # update the moment estimate (RMSprop)\n",
    "  S_init.assign(S)"
   ]
  }
 ],
 "metadata": {
  "kernelspec": {
   "display_name": "nlp",
   "language": "python",
   "name": "python3"
  },
  "language_info": {
   "codemirror_mode": {
    "name": "ipython",
    "version": 3
   },
   "file_extension": ".py",
   "mimetype": "text/x-python",
   "name": "python",
   "nbconvert_exporter": "python",
   "pygments_lexer": "ipython3",
   "version": "3.9.16"
  },
  "orig_nbformat": 4
 },
 "nbformat": 4,
 "nbformat_minor": 2
}
