{
 "cells": [
  {
   "cell_type": "code",
   "execution_count": 20,
   "metadata": {},
   "outputs": [],
   "source": [
    "import numpy as np\n",
    "import tensorflow as tf"
   ]
  },
  {
   "cell_type": "code",
   "execution_count": 21,
   "metadata": {},
   "outputs": [],
   "source": [
    "def StyblinskiTang(X):\n",
    "    \"\"\"\n",
    "    Computes the value of the StyblinskiTang function at a given point x using TensorFlow.\n",
    "    \n",
    "    Parameters:\n",
    "        X (tf.Tensor): A TensorFlow tensor representing the decision variable.\n",
    "    \n",
    "    Returns:\n",
    "        tf.Tensor: The value of the StyblinskiTang function at X.\n",
    "    \"\"\"\n",
    "    \n",
    "    f =  tf.subtract(  tf.pow(X, 4), tf.multiply(16, tf.pow(X, 2))   ) \n",
    "    s = tf.multiply(5, X)\n",
    "    \n",
    "    sum = tf.multiply (tf.add(  f    , s ), 0.5)     \n",
    "\n",
    "   \n",
    " \n",
    "    \n",
    "    \n",
    "    return tf.reduce_sum(sum, 1)"
   ]
  },
  {
   "cell_type": "code",
   "execution_count": 22,
   "metadata": {},
   "outputs": [
    {
     "name": "stdout",
     "output_type": "stream",
     "text": [
      "tf.Tensor([-78.3319 -78.3319], shape=(2,), dtype=float32)\n"
     ]
    }
   ],
   "source": [
    "input = tf.constant([[-2.9,-2.9],[-2.9,-2.9]])\n",
    "output = StyblinskiTang(input)\n",
    "print (output)"
   ]
  },
  {
   "attachments": {},
   "cell_type": "markdown",
   "metadata": {},
   "source": [
    "[Maytas](https://www.sfu.ca/~ssurjano/matya.html)"
   ]
  }
 ],
 "metadata": {
  "kernelspec": {
   "display_name": "collage",
   "language": "python",
   "name": "python3"
  },
  "language_info": {
   "codemirror_mode": {
    "name": "ipython",
    "version": 3
   },
   "file_extension": ".py",
   "mimetype": "text/x-python",
   "name": "python",
   "nbconvert_exporter": "python",
   "pygments_lexer": "ipython3",
   "version": "3.9.16"
  },
  "orig_nbformat": 4
 },
 "nbformat": 4,
 "nbformat_minor": 2
}
