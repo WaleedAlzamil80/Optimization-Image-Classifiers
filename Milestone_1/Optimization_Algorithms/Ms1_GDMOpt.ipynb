{
 "cells": [
  {
   "cell_type": "code",
   "execution_count": null,
   "metadata": {},
   "outputs": [],
   "source": [
    "import numpy as np\n",
    "import tensorflow as tf"
   ]
  },
  {
   "cell_type": "code",
   "execution_count": 1,
   "metadata": {},
   "outputs": [],
   "source": [
    "def GDM(loss_func, X_init, V_init, X_vals, loss_vals, eta=0.01, beta_1=0.9):\n",
    "    \"\"\"\n",
    "    Gradient Descent with Momentum optimization algorithm for updating the values of a given variable.\n",
    "\n",
    "    Args:\n",
    "      - loss_func: Callable, the loss function that computes the loss given the current variable values.\n",
    "      - X_init: tf.Variable, the initial variable values to be updated.\n",
    "      - eta: float, the learning rate used to control the size of the update steps (default is 0.01).\n",
    "      - beta_1: float, the momentum hyperparameter used to control the momentum effect (default is 0.9).\n",
    "      - X_vals: list(), empty list used to save X at each iteration.\n",
    "      - loss_vals: list(), empty list used to save the loss values at each iteration.\n",
    "\n",
    "\n",
    "    Returns:\n",
    "      None\n",
    "    \"\"\"\n",
    "\n",
    "    with tf.GradientTape(persistent=True) as t:\n",
    "        # Compute the current loss\n",
    "        current_loss = loss_func(X_init)\n",
    "\n",
    "    # Compute the gradient of the loss with respect to the variables\n",
    "    dx = t.gradient(current_loss, X_init)\n",
    "\n",
    "    # Compute the estimate (momentum)\n",
    "    V=beta_1 * V_init + (1 - beta_1) * dx\n",
    "\n",
    "    # Update the variables using the momentum update rule\n",
    "    X_init.assign_sub(eta * V)\n",
    "\n",
    "    # Update the moment estimate (momentum)\n",
    "    V_init.assign(V)\n",
    "\n",
    "\n",
    "    # calc the loss value and append it to the list\n",
    "    loss_vals.append(tf.squeeze (loss_func(X_init)))\n",
    "\n",
    "    #append X to the list\n",
    "    X_vals.append(X_init.numpy())\n",
    "\n",
    "\n",
    "    \n"
   ]
  }
 ],
 "metadata": {
  "kernelspec": {
   "display_name": "Python 3.9.13 ('myenv')",
   "language": "python",
   "name": "python3"
  },
  "language_info": {
   "codemirror_mode": {
    "name": "ipython",
    "version": 3
   },
   "file_extension": ".py",
   "mimetype": "text/x-python",
   "name": "python",
   "nbconvert_exporter": "python",
   "pygments_lexer": "ipython3",
   "version": "3.9.13"
  },
  "orig_nbformat": 4,
  "vscode": {
   "interpreter": {
    "hash": "de1e89af3ef8b17e93d79e53c27fdd6267335e03ee420ef3296d6319bf4dd9be"
   }
  }
 },
 "nbformat": 4,
 "nbformat_minor": 2
}
