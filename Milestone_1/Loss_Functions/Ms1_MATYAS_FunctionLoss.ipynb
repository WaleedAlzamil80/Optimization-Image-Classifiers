{
 "cells": [
  {
   "cell_type": "code",
   "execution_count": 23,
   "metadata": {},
   "outputs": [],
   "source": [
    "import numpy as np\n",
    "import tensorflow as tf"
   ]
  },
  {
   "cell_type": "code",
   "execution_count": 24,
   "metadata": {},
   "outputs": [],
   "source": [
    "def MATYAS(X):\n",
    "    \"\"\"\n",
    "    Computes the value of the MATYAS function at a given point x using TensorFlow.\n",
    "    \n",
    "    Parameters:\n",
    "        X (tf.Tensor): A TensorFlow tensor representing the decision variable.\n",
    "    \n",
    "    Returns:\n",
    "        tf.Tensor: The value of the MATYAS function at X.\n",
    "    \"\"\"\n",
    "    X1, X2 = X[:, 0], X[:, 1]\n",
    "    x1sq=tf.math.multiply(X1, X1)\n",
    "    x2sq=tf.math.multiply(X2, X2)\n",
    "    sum1=tf.math.multiply(tf.math.add(x1sq, x2sq),0.26)\n",
    "\n",
    "    sum2=tf.math.multiply(tf.math.multiply(x2sq,x2sq),-0.48)\n",
    "\n",
    "    sum=tf.math.add(sum1, sum2)\n",
    "\n",
    "    return (sum)"
   ]
  },
  {
   "cell_type": "code",
   "execution_count": 25,
   "metadata": {},
   "outputs": [
    {
     "name": "stdout",
     "output_type": "stream",
     "text": [
      "tf.Tensor([0. 0.], shape=(2,), dtype=float32)\n"
     ]
    }
   ],
   "source": [
    "input = tf.constant([[0.0,0.0],[0.0,0.0]])\n",
    "output = MATYAS(input)\n",
    "print (output)"
   ]
  },
  {
   "attachments": {},
   "cell_type": "markdown",
   "metadata": {},
   "source": [
    "[Maytas](https://www.sfu.ca/~ssurjano/matya.html)"
   ]
  }
 ],
 "metadata": {
  "kernelspec": {
   "display_name": "workingenv",
   "language": "python",
   "name": "python3"
  },
  "language_info": {
   "codemirror_mode": {
    "name": "ipython",
    "version": 3
   },
   "file_extension": ".py",
   "mimetype": "text/x-python",
   "name": "python",
   "nbconvert_exporter": "python",
   "pygments_lexer": "ipython3",
   "version": "3.10.8"
  },
  "orig_nbformat": 4,
  "vscode": {
   "interpreter": {
    "hash": "45b59798d74bb50e109fe8c48531eb1b59f7c8e05b5ed79acfc3efc4f6ab9c77"
   }
  }
 },
 "nbformat": 4,
 "nbformat_minor": 2
}
